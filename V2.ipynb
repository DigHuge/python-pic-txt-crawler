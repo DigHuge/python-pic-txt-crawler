{
 "cells": [
  {
   "cell_type": "code",
   "execution_count": 10,
   "metadata": {
    "code_folding": []
   },
   "outputs": [],
   "source": [
    "from urllib.request import urlopen\n",
    "from urllib.request import urlretrieve\n",
    "import urllib.request\n",
    "from bs4 import BeautifulSoup as bf\n",
    "import os\n",
    "from urllib.parse import quote\n",
    "import string\n",
    "import requests\n",
    "\n",
    "original_url = 'https://www.v2ph.com/album/YTY-693'\n",
    "address = 'C:/Users/LZH/Downloads/' #存储地址\n",
    "proxies =  { \"http\": \"http://127.0.0.1:7890\", \"https\": \"http://127.0.0.1:7890\", } #代理服务器\n",
    "headers = {\"User-Agent\" : \"Mozilla/5.0 (Windows NT 10.0; Win64; x64) AppleWebKit/537.36 (KHTML, like Gecko) Chrome/104.0.0.0 Safari/537.36\",\n",
    "           'Referer':'https://www.v2ph.com/'} #浏览器信息\n",
    "\n",
    "cookies = {\n",
    "    'fpestid':'zpaXrw-mV89PNvlI-cFJYqNOslXiKlX_gllfVcrJ8xzUhj4JY3LoNmoeZRjk3SCHUyD_IA',\n",
    "    '_gid':'GA1.2.496627508.1659686846',\n",
    "    '_ga_170M3FX3HZ':'GS1.1.1659692359.5.1.1659694296.59',\n",
    "    '_ga':'GA1.2.1961013052.1653620642',\n",
    "    '__cf_bm':'7S3VmuWfUXqlUHwU_iALNjP_tJ6dtx61aIOeyk_2Op0-1659694122-0-AVWAN1Wmt+TxUonk8qgN9sqcJyiTTx/N7QikT18kGWlUBkpVXu9IIVSj/u/CT1yFjHBRDg9RMFjfbnoOP6khQVSyLMYuoP2vu9ZtEbyI43WZI3Fqi1pBYzzcNn1tD/XyIg==',\n",
    "    'frontend':'76b22f52565dbca44cb85f524df61727',\n",
    "    'frontend-rmt':'nx%2FCvRlTjrF9BqezmsxtB4TvgVXMNyaU8fAPiZ1EJMO2o%2BY3DSwMft2necg4xF%2FR',\n",
    "    'frontend-rmu':'VaH3HHC0AfEJ9H8VFMTMTXQNgzTo'\n",
    "} "
   ]
  },
  {
   "cell_type": "code",
   "execution_count": 11,
   "metadata": {},
   "outputs": [],
   "source": [
    "sessions = requests.session()\n",
    "response =sessions.get(url = original_url,headers = headers,proxies = proxies,cookies = cookies)\n",
    "#print(response.text)"
   ]
  },
  {
   "cell_type": "code",
   "execution_count": 12,
   "metadata": {},
   "outputs": [
    {
     "name": "stdout",
     "output_type": "stream",
     "text": [
      "https://www.v2ph.com/album/YTY-693\n",
      "https://cdn.v2ph.com/photos/7PrxGrn3yEY22fOy.jpg done\t 1\n",
      "https://cdn.v2ph.com/photos/fckag4GfCcCvttC7.jpg done\t 2\n",
      "https://cdn.v2ph.com/photos/Wix43VQh5lvNS2CB.jpg done\t 3\n",
      "https://cdn.v2ph.com/photos/7ZTDwUJBg2SAVIUp.jpg done\t 4\n",
      "https://cdn.v2ph.com/photos/WR2BMh2O6bmuv0Lk.jpg done\t 5\n",
      "https://cdn.v2ph.com/photos/9vvGlmqYa7q4piXJ.jpg done\t 6\n",
      "https://cdn.v2ph.com/photos/7jhCQ7b6NHr-mTIu.jpg done\t 7\n",
      "https://cdn.v2ph.com/photos/y8Q0BZWqIlwG-v25.jpg done\t 8\n",
      "https://cdn.v2ph.com/photos/8hNS1bvxTo3zLPnG.jpg done\t 9\n",
      "https://cdn.v2ph.com/photos/ZbFHd9p5pRIOo00R.jpg done\t 10\n",
      "https://www.v2ph.com/album/YTY-693?page=2\n",
      "https://cdn.v2ph.com/photos/Lp5TF8Xqw2E0UwqC.jpg done\t 11\n",
      "https://cdn.v2ph.com/photos/VqHqkJXFHjdHcZls.jpg done\t 12\n",
      "https://cdn.v2ph.com/photos/Hu7eJbF_-GsQGK-4.jpg done\t 13\n",
      "https://cdn.v2ph.com/photos/ZtX6JYj2MTP7s-pR.jpg done\t 14\n",
      "https://cdn.v2ph.com/photos/60LbfPbq-NxK-xlu.jpg done\t 15\n",
      "https://cdn.v2ph.com/photos/tKam1_jPilG4nNcA.jpg done\t 16\n",
      "https://cdn.v2ph.com/photos/4OWan7FkJ3CL0vT2.jpg done\t 17\n",
      "https://cdn.v2ph.com/photos/4HMc4pNKSw4PdE0t.jpg done\t 18\n",
      "https://cdn.v2ph.com/photos/m012Eq9PXdbms9Et.jpg done\t 19\n",
      "https://cdn.v2ph.com/photos/KawytaOQAAE2W4o9.jpg done\t 20\n",
      "https://www.v2ph.com/album/YTY-693?page=3\n",
      "https://cdn.v2ph.com/photos/gFD31qv75SBAvHbi.jpg done\t 21\n",
      "https://cdn.v2ph.com/photos/43dKJFVpKrSVJB6X.jpg done\t 22\n",
      "https://cdn.v2ph.com/photos/NCBq1hkOaXENToFR.jpg done\t 23\n",
      "All done\n"
     ]
    }
   ],
   "source": [
    "obj = bf(response.text,'html.parser')\n",
    "file_name = obj.h1.get_text() #获取文件夹名\n",
    "file_path = path = address + file_name + '/'\n",
    "if not os.path.exists(path): #若不存在，则创建\n",
    "    os.mkdir(path)\n",
    "stop = 0 #停止爬图参数\n",
    "x = 1\n",
    "for page in range(1,1000):\n",
    "    if (page == 1):\n",
    "        URL = original_url\n",
    "    print(URL)\n",
    "    s = requests.session()\n",
    "    response = s.get(url = URL,proxies = proxies,headers = headers,cookies = cookies)\n",
    "    obj = bf(response.text,'html.parser')\n",
    "    pic_url = obj.find_all('img', class_='img-fluid album-photo d-block mx-auto')\n",
    "    for i in pic_url:\n",
    "        pic = i['data-src']\n",
    "        r = requests.get(url = pic,proxies = proxies,headers = headers,cookies = cookies)\n",
    "        print(pic,end = ' ')\n",
    "        save = os.path.join(file_path,'%s.jpg'%i['alt'])\n",
    "        with open(save,'wb') as f: #存图片\n",
    "            f.write(r.content)\n",
    "            f.close()\n",
    "        print('done\\t %s'%(x))\n",
    "        x +=1\n",
    "    #判断是否有下一页\n",
    "    next_url = obj.find_all('a',class_= 'page-link')\n",
    "    to = len(next_url)-2\n",
    "    new_url = next_url[to]['href']\n",
    "    if(stop == 1):\n",
    "        break\n",
    "    else:\n",
    "        URL = 'https://www.v2ph.com' + new_url\n",
    "        #已知该网站倒数第二页的页码分布特点为：最后两个页码链接一致。\n",
    "        #故在爬完倒数第二页后，赋予最后一页链接的同时，激活停止爬图参数(stop=1).\n",
    "        #这样就可以在爬完最后一页后，停止爬虫了\n",
    "        if (next_url[to]['href'] == next_url[to-1]['href']): \n",
    "            stop += 1\n",
    "print('All done')"
   ]
  },
  {
   "cell_type": "code",
   "execution_count": null,
   "metadata": {},
   "outputs": [],
   "source": [
    "temp = (obj.find_all('a',class_= 'page-link'))\n",
    "print(temp[4]['href'])\n",
    "for j in temp:\n",
    "    print(j)"
   ]
  },
  {
   "cell_type": "code",
   "execution_count": 7,
   "metadata": {},
   "outputs": [
    {
     "name": "stdout",
     "output_type": "stream",
     "text": [
      "[YouMi尤蜜] 黑丝狂三 呆猫 9\n"
     ]
    }
   ],
   "source": [
    "print(i['alt'])"
   ]
  },
  {
   "cell_type": "code",
   "execution_count": null,
   "metadata": {},
   "outputs": [],
   "source": []
  },
  {
   "cell_type": "code",
   "execution_count": null,
   "metadata": {},
   "outputs": [],
   "source": []
  }
 ],
 "metadata": {
  "kernelspec": {
   "display_name": "Python 3",
   "language": "python",
   "name": "python3"
  },
  "language_info": {
   "codemirror_mode": {
    "name": "ipython",
    "version": 3
   },
   "file_extension": ".py",
   "mimetype": "text/x-python",
   "name": "python",
   "nbconvert_exporter": "python",
   "pygments_lexer": "ipython3",
   "version": "3.7.0"
  }
 },
 "nbformat": 4,
 "nbformat_minor": 4
}
