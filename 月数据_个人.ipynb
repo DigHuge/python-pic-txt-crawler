{
 "cells": [
  {
   "cell_type": "code",
   "execution_count": 1,
   "metadata": {
    "code_folding": []
   },
   "outputs": [
    {
     "name": "stdout",
     "output_type": "stream",
     "text": [
      "success! https://vup.darkflame.ga/api/ranking/2022/3?sortby=income&groupby=individual 已完成\n",
      "done\n"
     ]
    }
   ],
   "source": [
    "#coding:utf-8\n",
    "from urllib.request import urlopen\n",
    "from openpyxl import load_workbook\n",
    "import urllib\n",
    "import pandas as pd\n",
    "import time\n",
    "\n",
    "column = ['month','uid','name','live_time', 'danmu', 'income', 'pay_num']\n",
    "try_times = 20    #重试次数\n",
    "tt=0\n",
    "headers = {'User-Agent':'Mozilla/5.0 (Windows NT 6.1; WOW64; rv:23.0) Gecko/20100101 Firefox/23.0'}\n",
    "s_interval=[2,2,2,1,2,5,1]\n",
    "List = []\n",
    "\n",
    "for y in range (2022,2023): \n",
    "    for m in range (3,13):\n",
    "        if(y==2022 and m == 5):\n",
    "            break\n",
    "        url='https://vup.darkflame.ga/api/ranking/'+str(y)+'/'+str(m)+'?sortby=income&groupby=individual'\n",
    "        while tt < try_times:\n",
    "            try:\n",
    "                req = urllib.request.Request(url=url, headers=headers)\n",
    "                html = bytes.decode(urlopen(req,timeout=2).read())\n",
    "            except:\n",
    "                print('请求失败，重试')\n",
    "                time.sleep(2)\n",
    "                tt+=1\n",
    "            else:\n",
    "                print (\"success!\",end=' ')\n",
    "                break\n",
    "        text = html.split(',')\n",
    "        print(url, end=' ')\n",
    "        interval=2\n",
    "        abc = []\n",
    "        for i in range (0, 120):\n",
    "            data = []\n",
    "            if m<10:\n",
    "                data.append(str(y)+'-0'+str(m))\n",
    "            else:\n",
    "                data.append(str(y)+'-'+str(m))\n",
    "            for j in range(0, 7):\n",
    "                if (j == 0):  # uid\n",
    "                    temp = text[interval].split(':')\n",
    "                    if(i == 0):\n",
    "                        data.append(temp[3])\n",
    "                    else:\n",
    "                        data.append(temp[2])\n",
    "                elif (j == 1):  # 名字\n",
    "                    temp = text[interval].split(':')\n",
    "                    data.append(temp[1].strip('\"'))\n",
    "                elif (j == 2):  # 时长\n",
    "                    temp = text[interval].split(':')\n",
    "                    data.append(round(float(temp[2]), 2))  # 保留两位小数\n",
    "                elif (j == 3):  # 弹幕\n",
    "                    temp = text[interval].split(':')\n",
    "                    data.append(temp[1])\n",
    "                elif (j == 4): # 营收\n",
    "                    temp = text[interval].split(':')\n",
    "                    money = float(temp[1])\n",
    "                    data.append(round(int(money/1000), 0))  # 不保留小数\n",
    "                elif (j == 5):  # 付费人数\n",
    "                    temp = text[interval].split(':')\n",
    "                    data.append(temp[1])\n",
    "                elif (j == 6):  #互动人数\n",
    "                    temp = text[interval].split(':')\n",
    "                    data.append(temp[1].strip('}}]'))\n",
    "                interval = interval + s_interval[j]\n",
    "            abc.append(data)\n",
    "        file_path = 'C:/Users/LZH/Desktop/test_data/month_personal/new_month'+str(y)+'.'+str(m)+'.txt'\n",
    "        pd.DataFrame(data=abc).to_csv(file_path,header=None,index=False,encoding='utf-8')\n",
    "            #List.append(data)\n",
    "        print('已完成')\n",
    "        time.sleep(2)\n",
    "print('done')"
   ]
  },
  {
   "cell_type": "code",
   "execution_count": null,
   "metadata": {},
   "outputs": [],
   "source": [
    "text"
   ]
  },
  {
   "cell_type": "code",
   "execution_count": null,
   "metadata": {},
   "outputs": [],
   "source": []
  }
 ],
 "metadata": {
  "kernelspec": {
   "display_name": "Python 3",
   "language": "python",
   "name": "python3"
  },
  "language_info": {
   "codemirror_mode": {
    "name": "ipython",
    "version": 3
   },
   "file_extension": ".py",
   "mimetype": "text/x-python",
   "name": "python",
   "nbconvert_exporter": "python",
   "pygments_lexer": "ipython3",
   "version": "3.7.0"
  }
 },
 "nbformat": 4,
 "nbformat_minor": 2
}
