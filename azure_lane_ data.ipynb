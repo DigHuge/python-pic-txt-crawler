{
 "cells": [
  {
   "cell_type": "code",
   "execution_count": 121,
   "metadata": {},
   "outputs": [],
   "source": [
    "#coding:utf-8\n",
    "from urllib.request import urlopen\n",
    "from urllib.request import urlretrieve\n",
    "import urllib.request\n",
    "from bs4 import BeautifulSoup as bf\n",
    "import os\n",
    "from urllib.parse import quote\n",
    "import string\n",
    "import requests\n",
    "\n",
    "url = 'https://wiki.biligame.com/blhx/%E6%8D%A2%E8%A3%85%E5%9B%BE%E9%89%B4'\n",
    "headers = {\"User-Agent\" : \"Mozilla/5.0 (Windows NT 10.0; Win64; x64) AppleWebKit/537.36 (KHTML, like Gecko) Chrome/104.0.0.0 Safari/537.36\"}"
   ]
  },
  {
   "cell_type": "code",
   "execution_count": 66,
   "metadata": {},
   "outputs": [],
   "source": [
    "sessions = requests.session()\n",
    "response =sessions.get(url = url,headers = headers)"
   ]
  },
  {
   "cell_type": "code",
   "execution_count": 106,
   "metadata": {},
   "outputs": [],
   "source": [
    "obj = bf(response.text,'html.parser')\n",
    "kansen = obj.find_all('div',style='position:relative;')\n",
    "kansen2 = obj.find_all('td')"
   ]
  },
  {
   "cell_type": "code",
   "execution_count": 141,
   "metadata": {},
   "outputs": [],
   "source": [
    "name = [] #名字\n",
    "date = [] #实装日期\n",
    "temp = []\n",
    "List = [] #数据集\n",
    "d = 20\n",
    "for i in range (len(kansen)):\n",
    "    temp.append(str(kansen[i].find('a').string))\n",
    "    temp.append(str(kansen2[d].string).replace('\\n', '').replace('\\r', ''))\n",
    "    List.append(temp)\n",
    "    temp = []\n",
    "    d = d + 12"
   ]
  },
  {
   "cell_type": "code",
   "execution_count": 143,
   "metadata": {},
   "outputs": [],
   "source": [
    "from openpyxl import load_workbook\n",
    "import pandas as pd\n",
    "file_path = 'C:/Users/LZH/Desktop/skin_project/skin_list.txt'\n",
    "pd.DataFrame(data=List).to_csv(file_path,header=None,index=False,encoding='utf-8')"
   ]
  },
  {
   "cell_type": "code",
   "execution_count": 142,
   "metadata": {},
   "outputs": [
    {
     "name": "stdout",
     "output_type": "stream",
     "text": [
      "['埃尔德里奇', '2017年12月15日']\n"
     ]
    }
   ],
   "source": [
    "# obj = bf(response.text,'html.parser')\n",
    "# kansen = obj.find_all('td')\n",
    "# for i in range (0,len(kansen),3):\n",
    "#     No.append(str(kansen[i].string).replace('\\n', '').replace('\\r', ''))\n",
    "#     name.append(str(kansen[i+1].find('span',class_='AF').string))\n",
    "#     date.append(str(kansen[i+2].string).replace('\\n', '').replace('\\r', ''))\n",
    "print(List[1])"
   ]
  },
  {
   "cell_type": "code",
   "execution_count": null,
   "metadata": {},
   "outputs": [],
   "source": []
  }
 ],
 "metadata": {
  "kernelspec": {
   "display_name": "Python 3",
   "language": "python",
   "name": "python3"
  },
  "language_info": {
   "codemirror_mode": {
    "name": "ipython",
    "version": 3
   },
   "file_extension": ".py",
   "mimetype": "text/x-python",
   "name": "python",
   "nbconvert_exporter": "python",
   "pygments_lexer": "ipython3",
   "version": "3.7.0"
  }
 },
 "nbformat": 4,
 "nbformat_minor": 2
}
