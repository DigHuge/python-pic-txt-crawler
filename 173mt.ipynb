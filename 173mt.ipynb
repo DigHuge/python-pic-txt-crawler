{
 "cells": [
  {
   "cell_type": "code",
   "execution_count": 80,
   "metadata": {},
   "outputs": [
    {
     "name": "stdout",
     "output_type": "stream",
     "text": [
      "page  1  done\n",
      "page  2  done\n",
      "alldone\n"
     ]
    }
   ],
   "source": [
    "from urllib.request import urlopen\n",
    "from urllib.request import urlretrieve\n",
    "from bs4 import BeautifulSoup as bf\n",
    "import os\n",
    "from urllib.parse import quote\n",
    "import string\n",
    "\n",
    "#爬数据\n",
    "\n",
    "original_url = 'https://www.173mt.com/st/cos/46621.html' #源地址\n",
    "address = 'C:/Users/LZH/Downloads/' #存储地址\n",
    "html = urlopen(original_url)\n",
    "obj = bf(html.read(),'html.parser')\n",
    "\n",
    "name = obj.title.string #获取文件夹名\n",
    "path = address + name + '/'\n",
    "if not os.path.exists(path): #若不存在，则创建\n",
    "    os.mkdir(path)\n",
    "\n",
    "x = 1\n",
    "p = len(obj.find(name = 'div',class_='article-paging').find_all('a'))+2  #页数\n",
    "for page in range (1,p):\n",
    "    if (page == 1): #第一页用源地址\n",
    "        url = original_url\n",
    "    else:\n",
    "        new_url = list(original_url)\n",
    "        new_url.insert(len(new_url)-5,('_%d'%page))\n",
    "        url = ''.join(new_url)\n",
    "    html = urlopen(url)\n",
    "    obj = bf(html.read(),'html.parser')\n",
    "    target_pic_info = obj.find_all('img',class_=\"lazyload\") #获取图片url\n",
    "    time = 1\n",
    "    for i in target_pic_info:\n",
    "        if(time>5):\n",
    "            break\n",
    "        save = os.path.join(path,'%s.jpg'%x)\n",
    "        pic_url = i['data-src']\n",
    "        if('titl' in pic_url):\n",
    "            break\n",
    "        else:\n",
    "            pic_url = quote(pic_url, safe=string.printable)\n",
    "            urlretrieve(pic_url,save)\n",
    "            x+=1\n",
    "            time +=1\n",
    "    print('page ',page,' done') \n",
    "print('alldone') "
   ]
  },
  {
   "cell_type": "code",
   "execution_count": null,
   "metadata": {
    "scrolled": true
   },
   "outputs": [],
   "source": [
    "x = 1\n",
    "for i in target_pic_info:\n",
    "    if(x>5):\n",
    "        break\n",
    "    pic_url = i['data-src']\n",
    "    print(pic_url)\n",
    "    x+=1"
   ]
  }
 ],
 "metadata": {
  "kernelspec": {
   "display_name": "Python 3",
   "language": "python",
   "name": "python3"
  },
  "language_info": {
   "codemirror_mode": {
    "name": "ipython",
    "version": 3
   },
   "file_extension": ".py",
   "mimetype": "text/x-python",
   "name": "python",
   "nbconvert_exporter": "python",
   "pygments_lexer": "ipython3",
   "version": "3.7.0"
  }
 },
 "nbformat": 4,
 "nbformat_minor": 4
}
